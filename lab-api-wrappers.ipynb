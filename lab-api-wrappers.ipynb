{
 "cells": [
  {
   "cell_type": "code",
   "execution_count": 2,
   "metadata": {},
   "outputs": [],
   "source": [
    "from bs4 import BeautifulSoup\n",
    "import requests\n",
    "import pandas as pd"
   ]
  },
  {
   "cell_type": "markdown",
   "metadata": {},
   "source": [
    "1. Scrape the current top 100 songs and their respective artists, and put the information into a pandas dataframe."
   ]
  },
  {
   "cell_type": "code",
   "execution_count": 3,
   "metadata": {},
   "outputs": [],
   "source": [
    "url = 'https://www.popvortex.com/music/charts/top-100-songs.php'"
   ]
  },
  {
   "cell_type": "code",
   "execution_count": 4,
   "metadata": {},
   "outputs": [
    {
     "data": {
      "text/plain": [
       "200"
      ]
     },
     "execution_count": 4,
     "metadata": {},
     "output_type": "execute_result"
    }
   ],
   "source": [
    "response = requests.get(url)\n",
    "response.status_code # 200 status code means OK!"
   ]
  },
  {
   "cell_type": "code",
   "execution_count": 5,
   "metadata": {},
   "outputs": [],
   "source": [
    "soup = BeautifulSoup(response.content, \"html.parser\")"
   ]
  },
  {
   "cell_type": "code",
   "execution_count": 6,
   "metadata": {},
   "outputs": [],
   "source": [
    "#soup"
   ]
  },
  {
   "cell_type": "code",
   "execution_count": 7,
   "metadata": {},
   "outputs": [],
   "source": [
    "#print(soup.prettify())"
   ]
  },
  {
   "cell_type": "code",
   "execution_count": 8,
   "metadata": {},
   "outputs": [],
   "source": [
    "#soup.select(\".title-artist\")"
   ]
  },
  {
   "cell_type": "code",
   "execution_count": 9,
   "metadata": {},
   "outputs": [
    {
     "name": "stdout",
     "output_type": "stream",
     "text": [
      "['Jimmy Buffett', 'Jimmy Buffett', 'Oliver Anthony Music', 'Zach Bryan', 'Gary Wright', 'Doja Cat', 'Smash Mouth', 'Jimmy Buffett', 'Jimmy Buffett', 'Paul Russell', 'Luke Combs', 'Jimmy Buffett', 'Gary Wright', 'Miley Cyrus', 'Nicki Minaj', 'Taylor Swift', 'Jimmy Buffett', 'Jelly Roll', 'Jimmy Buffett', 'Dua Lipa', 'Morgan Wallen', 'Jason Aldean', 'Oliver Anthony Music', 'Chris Stapleton', 'Smash Mouth', 'Smash Mouth', 'Lainey Wilson', 'Oliver Anthony Music', 'Jelly Roll', 'Jimmy Buffett', 'Nickelback', 'Smash Mouth', 'Morgan Wallen', 'Teddy Swims', 'Miley Cyrus', 'Smash Mouth', 'Fleetwood Mac', 'Bailey Zimmerman', 'Miley Cyrus', 'Olivia Rodrigo', 'Jimmy Buffett', 'Trump Latinos', 'Oliver Anthony Music', 'Smash Mouth', 'Wayland', 'Rema & Selena Gomez', 'Jimmy Buffett', 'Alan Jackson', 'Luke Combs', 'Billie Eilish', 'Nickelback', 'Jimmy Buffett', 'Creedence Clearwater Revival', 'Crosby, Stills & Nash', 'Rod Stewart', 'Jimmy Buffett', 'Timbaland, Nelly Furtado & Justin Timberlake', 'Jimmy Buffett & Martina McBride', 'Nickelback', 'Will Dempsey', 'Nickelback', 'Tom MacDonald & Adam Calhoun', 'Jelly Roll', 'HARDY', 'Metallica', 'Zach Bryan', 'Selena Gomez', 'Chris Stapleton', 'Chicago', 'Tyler Childers', 'Kane Brown', 'David Kushner', 'Jimmy Buffett', 'Chicago', 'Fleetwood Mac', 'Pretenders', 'Morgan Wallen', 'SZA', 'Fleetwood Mac', 'Noah Kahan & Post Malone', 'Fall Out Boy', 'Zach Bryan', 'Zhang Zhe Han', 'Taylor Swift', 'Evanescence', 'Jimmy Buffett', 'Oliver Anthony Music', 'Taylor Swift', 'Olivia Rodrigo', 'Norman Greenbaum', 'Morgan Wallen', 'Nicki Minaj & Ice Spice', 'Shinedown', 'Chicago', 'USHER, Summer Walker & 21 Savage', 'Jimmy Buffett', 'Vy Napi']\n",
      "['Margaritaville', 'Come Monday', 'Rich Men North of Richmond', 'I Remember Everything (feat. Kacey Musgraves)', 'Dream Weaver', 'Paint The Town Red', 'All Star', 'Cheeseburger In Paradise', 'Changes In Latitudes, Changes In Attitudes', 'Lil Boo Thang', 'Fast Car', 'A Pirate Looks at Forty', 'Love Is Alive', 'Used To Be Young', 'Last Time I Saw You', 'Cruel Summer', \"It's Five O'Clock Somewhere (Live)\", 'Need A Favor', 'Son of a Son of a Sailor', 'Dance The Night', 'Last Night', 'Try That In A Small Town', 'I Want to go Home', 'White Horse', \"Walkin' On the Sun\", \"I'm a Believer\", 'Watermelon Moonshine', '90 some Chevy', 'Save Me (with Lainey Wilson)', 'Fins', 'Rockstar', 'All Star', 'Thinkin’ Bout Me', 'Lose Control', 'Flowers', \"Walkin' On the Sun\", 'Dreams', 'Religiously', 'Used To Be Young', 'vampire', 'Southern Cross (Live)', 'Latinos For Trump', 'Aint Gotta Dollar', \"Walkin' On the Sun\", 'Indiana Jones', 'Calm Down', \"Why Don't We Get Drunk\", \"It's Five O'Clock Somewhere (with Jimmy Buffett)\", 'Love You Anyway', 'What Was I Made For? [From The Motion Picture \"Barbie\"]', 'How You Remind Me', 'Volcano', 'Have You Ever Seen the Rain', 'Southern Cross', 'Forever Young', 'Brown Eyed Girl (Live)', 'Keep Going Up', 'Trip Around the Sun', 'Far Away', 'Beat You There', 'Photograph', 'Whiteboyz', 'Son Of A Sinner', 'TRUCK BED', 'Enter Sandman', \"Something in the Orange (Z&E's Version)\", 'Single Soon', 'Tennessee Whiskey', \"Hard to Say I'm Sorry / Get Away\", 'In Your Love', 'Bury Me in Georgia (Single Edit)', 'Daylight', 'He Went to Paris', \"You're the Inspiration\", 'Gypsy', \"I'll Stand By You\", 'Everything I Love', 'Snooze', 'Rhiannon', 'Dial Drunk', 'We Didn’t Start The Fire', 'Hey Driver (feat. The War and Treaty)', 'Pressure', 'Anti-Hero', 'Bring Me to Life', 'Come Monday', 'I Want To Go Home (live)', 'august', 'bad idea right?', 'Spirit In the Sky', 'Thought You Should Know', 'Barbie World (with Aqua)', 'A Symptom Of Being Human', 'If You Leave Me Now', 'Good Good', 'One Particular Harbour', 'I Know a Girl Who Sees Me As Poorer']\n"
     ]
    }
   ],
   "source": [
    "title = []\n",
    "artist = []\n",
    "\n",
    "num_iter = len(soup.select(\".title-artist\"))\n",
    "tClist = soup.select(\".title-artist\")\n",
    "\n",
    "# iterate through the result set and retrive all the data\n",
    "for i in range(num_iter):\n",
    "    title.append(tClist[i].find(class_=\"title\").get_text())\n",
    "    artist.append(tClist[i].find(class_=\"artist\").get_text())\n",
    "\n",
    "print(artist)\n",
    "print(title)\n",
    "\n",
    "\n",
    "\n",
    "\n"
   ]
  },
  {
   "cell_type": "code",
   "execution_count": 10,
   "metadata": {},
   "outputs": [],
   "source": [
    "songs = pd.DataFrame({\"artist\":artist,\n",
    "                       \"title\":title,\n",
    "                      })"
   ]
  },
  {
   "cell_type": "code",
   "execution_count": 11,
   "metadata": {},
   "outputs": [
    {
     "data": {
      "text/html": [
       "<div>\n",
       "<style scoped>\n",
       "    .dataframe tbody tr th:only-of-type {\n",
       "        vertical-align: middle;\n",
       "    }\n",
       "\n",
       "    .dataframe tbody tr th {\n",
       "        vertical-align: top;\n",
       "    }\n",
       "\n",
       "    .dataframe thead th {\n",
       "        text-align: right;\n",
       "    }\n",
       "</style>\n",
       "<table border=\"1\" class=\"dataframe\">\n",
       "  <thead>\n",
       "    <tr style=\"text-align: right;\">\n",
       "      <th></th>\n",
       "      <th>artist</th>\n",
       "      <th>title</th>\n",
       "    </tr>\n",
       "  </thead>\n",
       "  <tbody>\n",
       "    <tr>\n",
       "      <th>0</th>\n",
       "      <td>Jimmy Buffett</td>\n",
       "      <td>Margaritaville</td>\n",
       "    </tr>\n",
       "    <tr>\n",
       "      <th>1</th>\n",
       "      <td>Jimmy Buffett</td>\n",
       "      <td>Come Monday</td>\n",
       "    </tr>\n",
       "    <tr>\n",
       "      <th>2</th>\n",
       "      <td>Oliver Anthony Music</td>\n",
       "      <td>Rich Men North of Richmond</td>\n",
       "    </tr>\n",
       "    <tr>\n",
       "      <th>3</th>\n",
       "      <td>Zach Bryan</td>\n",
       "      <td>I Remember Everything (feat. Kacey Musgraves)</td>\n",
       "    </tr>\n",
       "    <tr>\n",
       "      <th>4</th>\n",
       "      <td>Gary Wright</td>\n",
       "      <td>Dream Weaver</td>\n",
       "    </tr>\n",
       "    <tr>\n",
       "      <th>...</th>\n",
       "      <td>...</td>\n",
       "      <td>...</td>\n",
       "    </tr>\n",
       "    <tr>\n",
       "      <th>92</th>\n",
       "      <td>Shinedown</td>\n",
       "      <td>A Symptom Of Being Human</td>\n",
       "    </tr>\n",
       "    <tr>\n",
       "      <th>93</th>\n",
       "      <td>Chicago</td>\n",
       "      <td>If You Leave Me Now</td>\n",
       "    </tr>\n",
       "    <tr>\n",
       "      <th>94</th>\n",
       "      <td>USHER, Summer Walker &amp; 21 Savage</td>\n",
       "      <td>Good Good</td>\n",
       "    </tr>\n",
       "    <tr>\n",
       "      <th>95</th>\n",
       "      <td>Jimmy Buffett</td>\n",
       "      <td>One Particular Harbour</td>\n",
       "    </tr>\n",
       "    <tr>\n",
       "      <th>96</th>\n",
       "      <td>Vy Napi</td>\n",
       "      <td>I Know a Girl Who Sees Me As Poorer</td>\n",
       "    </tr>\n",
       "  </tbody>\n",
       "</table>\n",
       "<p>97 rows × 2 columns</p>\n",
       "</div>"
      ],
      "text/plain": [
       "                              artist  \\\n",
       "0                      Jimmy Buffett   \n",
       "1                      Jimmy Buffett   \n",
       "2               Oliver Anthony Music   \n",
       "3                         Zach Bryan   \n",
       "4                        Gary Wright   \n",
       "..                               ...   \n",
       "92                         Shinedown   \n",
       "93                           Chicago   \n",
       "94  USHER, Summer Walker & 21 Savage   \n",
       "95                     Jimmy Buffett   \n",
       "96                           Vy Napi   \n",
       "\n",
       "                                            title  \n",
       "0                                  Margaritaville  \n",
       "1                                     Come Monday  \n",
       "2                      Rich Men North of Richmond  \n",
       "3   I Remember Everything (feat. Kacey Musgraves)  \n",
       "4                                    Dream Weaver  \n",
       "..                                            ...  \n",
       "92                       A Symptom Of Being Human  \n",
       "93                            If You Leave Me Now  \n",
       "94                                      Good Good  \n",
       "95                         One Particular Harbour  \n",
       "96            I Know a Girl Who Sees Me As Poorer  \n",
       "\n",
       "[97 rows x 2 columns]"
      ]
     },
     "execution_count": 11,
     "metadata": {},
     "output_type": "execute_result"
    }
   ],
   "source": [
    "songs"
   ]
  },
  {
   "cell_type": "markdown",
   "metadata": {},
   "source": [
    "SEARCH ENGINE"
   ]
  },
  {
   "cell_type": "code",
   "execution_count": 12,
   "metadata": {},
   "outputs": [],
   "source": [
    "import random"
   ]
  },
  {
   "cell_type": "code",
   "execution_count": 13,
   "metadata": {},
   "outputs": [
    {
     "data": {
      "text/plain": [
       "\"Sorry, we don't have this title.\""
      ]
     },
     "execution_count": 13,
     "metadata": {},
     "output_type": "execute_result"
    }
   ],
   "source": [
    "def search_random_title(input_title):\n",
    "    if input_title in songs['title'].values:\n",
    "        while True:\n",
    "            random_title = random.choice(songs['title'])\n",
    "            if random_title != input_title:\n",
    "                return random_title\n",
    "    else:\n",
    "        return \"Sorry, we don't have this title.\"\n",
    "\n",
    "input_title = input(\"Enter a song title: \")\n",
    "search_random_title(input_title)"
   ]
  },
  {
   "cell_type": "markdown",
   "metadata": {},
   "source": [
    "Adding more songs"
   ]
  },
  {
   "cell_type": "code",
   "execution_count": 74,
   "metadata": {},
   "outputs": [],
   "source": [
    "secrets_file = open(\"secret.txt\",\"r\")"
   ]
  },
  {
   "cell_type": "code",
   "execution_count": 75,
   "metadata": {},
   "outputs": [],
   "source": [
    "string = secrets_file.read()\n",
    "string.split('\\n')\n",
    "secrets_dict={}\n",
    "for line in string.split('\\n'):\n",
    "    if len(line) > 0:\n",
    "        #print(line.split(':'))\n",
    "        secrets_dict[line.split(':')[0]]=line.split(':')[1].strip()"
   ]
  },
  {
   "cell_type": "code",
   "execution_count": 76,
   "metadata": {},
   "outputs": [],
   "source": [
    "import spotipy\n",
    "from spotipy.oauth2 import SpotifyClientCredentials\n",
    "\n",
    "#Initialize SpotiPy with user credentials\n",
    "sp = spotipy.Spotify(auth_manager=SpotifyClientCredentials(client_id=secrets_dict['clientid'],\n",
    "                                                           client_secret=secrets_dict['clientsecret']))"
   ]
  },
  {
   "cell_type": "code",
   "execution_count": 77,
   "metadata": {},
   "outputs": [],
   "source": [
    "\n",
    "playlist = sp.user_playlist_tracks(\"spotify\", \"54nv8jbrm4JoHEZ49Qvjgl\")"
   ]
  },
  {
   "cell_type": "code",
   "execution_count": 78,
   "metadata": {},
   "outputs": [
    {
     "data": {
      "text/plain": [
       "9925"
      ]
     },
     "execution_count": 78,
     "metadata": {},
     "output_type": "execute_result"
    }
   ],
   "source": [
    "playlist[\"total\"] "
   ]
  },
  {
   "cell_type": "code",
   "execution_count": 79,
   "metadata": {},
   "outputs": [
    {
     "data": {
      "text/plain": [
       "100"
      ]
     },
     "execution_count": 79,
     "metadata": {},
     "output_type": "execute_result"
    }
   ],
   "source": [
    "len(playlist[\"items\"])"
   ]
  },
  {
   "cell_type": "code",
   "execution_count": 80,
   "metadata": {},
   "outputs": [
    {
     "data": {
      "text/plain": [
       "'https://api.spotify.com/v1/playlists/54nv8jbrm4JoHEZ49Qvjgl/tracks?offset=100&limit=100&additional_types=track'"
      ]
     },
     "execution_count": 80,
     "metadata": {},
     "output_type": "execute_result"
    }
   ],
   "source": [
    "playlist['next']"
   ]
  },
  {
   "cell_type": "code",
   "execution_count": 81,
   "metadata": {},
   "outputs": [],
   "source": [
    "from random import randint\n",
    "from time import sleep\n",
    "\n",
    "def get_playlist_tracks(playlist_id):\n",
    "    results = sp.user_playlist_tracks(\"spotify\",playlist_id)\n",
    "    tracks = results['items']\n",
    "    while results['next']!=None:\n",
    "        results = sp.next(results)\n",
    "        tracks = tracks + results['items']\n",
    "        sleep(randint(1,3000)/1000) # respectful nap\n",
    "    return tracks"
   ]
  },
  {
   "cell_type": "code",
   "execution_count": 82,
   "metadata": {},
   "outputs": [
    {
     "data": {
      "text/plain": [
       "9925"
      ]
     },
     "execution_count": 82,
     "metadata": {},
     "output_type": "execute_result"
    }
   ],
   "source": [
    "all_tracks = get_playlist_tracks(\"54nv8jbrm4JoHEZ49Qvjgl\")\n",
    "len(all_tracks)"
   ]
  },
  {
   "cell_type": "code",
   "execution_count": 29,
   "metadata": {},
   "outputs": [],
   "source": [
    "from pandas import json_normalize"
   ]
  },
  {
   "cell_type": "code",
   "execution_count": 38,
   "metadata": {},
   "outputs": [],
   "source": [
    "spotify = json_normalize(all_tracks)\n",
    "#spotify"
   ]
  },
  {
   "cell_type": "code",
   "execution_count": 37,
   "metadata": {},
   "outputs": [
    {
     "data": {
      "text/plain": [
       "Index(['added_at', 'is_local', 'primary_color',\n",
       "       'added_by.external_urls.spotify', 'added_by.href', 'added_by.id',\n",
       "       'added_by.type', 'added_by.uri', 'track.album.album_type',\n",
       "       'track.album.artists', 'track.album.available_markets',\n",
       "       'track.album.external_urls.spotify', 'track.album.href',\n",
       "       'track.album.id', 'track.album.images', 'track.album.name',\n",
       "       'track.album.release_date', 'track.album.release_date_precision',\n",
       "       'track.album.total_tracks', 'track.album.type', 'track.album.uri',\n",
       "       'track.artists', 'track.available_markets', 'track.disc_number',\n",
       "       'track.duration_ms', 'track.episode', 'track.explicit',\n",
       "       'track.external_ids.isrc', 'track.external_urls.spotify', 'track.href',\n",
       "       'track.id', 'track.is_local', 'track.name', 'track.popularity',\n",
       "       'track.preview_url', 'track.track', 'track.track_number', 'track.type',\n",
       "       'track.uri', 'video_thumbnail.url', 'track'],\n",
       "      dtype='object')"
      ]
     },
     "execution_count": 37,
     "metadata": {},
     "output_type": "execute_result"
    }
   ],
   "source": [
    "spotify.columns"
   ]
  },
  {
   "cell_type": "code",
   "execution_count": 95,
   "metadata": {},
   "outputs": [],
   "source": [
    "#spotify[\"track.artists\"]"
   ]
  },
  {
   "cell_type": "code",
   "execution_count": 61,
   "metadata": {},
   "outputs": [],
   "source": [
    "def list_to_dict(x):\n",
    "    if isinstance(x, list):\n",
    "        return {i: x[i] for i in range(len(x))}\n",
    "    else:\n",
    "        return {} "
   ]
  },
  {
   "cell_type": "code",
   "execution_count": 94,
   "metadata": {},
   "outputs": [],
   "source": [
    "spotify['artist_dict'] = spotify['track.artists'].apply(lambda x: list_to_dict(x))\n",
    "#spotify"
   ]
  },
  {
   "cell_type": "code",
   "execution_count": 93,
   "metadata": {},
   "outputs": [],
   "source": [
    "#spotify[\"track.artists\"]"
   ]
  },
  {
   "cell_type": "code",
   "execution_count": 64,
   "metadata": {},
   "outputs": [],
   "source": [
    "def expand_list_dict2(row):\n",
    "    df = pd.DataFrame.from_dict(row['artist_dict'], orient='index')\n",
    "    df['song_id'] = row['track.id']\n",
    "    return df"
   ]
  },
  {
   "cell_type": "code",
   "execution_count": 65,
   "metadata": {},
   "outputs": [
    {
     "data": {
      "text/html": [
       "<div>\n",
       "<style scoped>\n",
       "    .dataframe tbody tr th:only-of-type {\n",
       "        vertical-align: middle;\n",
       "    }\n",
       "\n",
       "    .dataframe tbody tr th {\n",
       "        vertical-align: top;\n",
       "    }\n",
       "\n",
       "    .dataframe thead th {\n",
       "        text-align: right;\n",
       "    }\n",
       "</style>\n",
       "<table border=\"1\" class=\"dataframe\">\n",
       "  <thead>\n",
       "    <tr style=\"text-align: right;\">\n",
       "      <th></th>\n",
       "      <th>external_urls</th>\n",
       "      <th>href</th>\n",
       "      <th>id</th>\n",
       "      <th>name</th>\n",
       "      <th>type</th>\n",
       "      <th>uri</th>\n",
       "      <th>song_id</th>\n",
       "    </tr>\n",
       "  </thead>\n",
       "  <tbody>\n",
       "    <tr>\n",
       "      <th>0</th>\n",
       "      <td>{'spotify': 'https://open.spotify.com/artist/3...</td>\n",
       "      <td>https://api.spotify.com/v1/artists/3AQRLZ9PuTA...</td>\n",
       "      <td>3AQRLZ9PuTAozP28Skbq8V</td>\n",
       "      <td>The Script</td>\n",
       "      <td>artist</td>\n",
       "      <td>spotify:artist:3AQRLZ9PuTAozP28Skbq8V</td>\n",
       "      <td>4Musyaro0NM5Awx8b5c627</td>\n",
       "    </tr>\n",
       "  </tbody>\n",
       "</table>\n",
       "</div>"
      ],
      "text/plain": [
       "                                       external_urls  \\\n",
       "0  {'spotify': 'https://open.spotify.com/artist/3...   \n",
       "\n",
       "                                                href                      id  \\\n",
       "0  https://api.spotify.com/v1/artists/3AQRLZ9PuTA...  3AQRLZ9PuTAozP28Skbq8V   \n",
       "\n",
       "         name    type                                    uri  \\\n",
       "0  The Script  artist  spotify:artist:3AQRLZ9PuTAozP28Skbq8V   \n",
       "\n",
       "                  song_id  \n",
       "0  4Musyaro0NM5Awx8b5c627  "
      ]
     },
     "execution_count": 65,
     "metadata": {},
     "output_type": "execute_result"
    }
   ],
   "source": [
    "spotify['artists_dfs'] = spotify.apply(expand_list_dict2, axis=1)\n",
    "spotify['artists_dfs'][3]"
   ]
  },
  {
   "cell_type": "code",
   "execution_count": 92,
   "metadata": {},
   "outputs": [],
   "source": [
    "artist_df2 = pd.DataFrame(columns=['external_urls', 'href', 'id', 'name', 'type', 'uri'])\n",
    "for val in spotify['artists_dfs']:\n",
    "    #display(val)\n",
    "    artist_df2 = pd.concat([artist_df2, val], axis=0)\n",
    "    \n",
    "#artist_df2"
   ]
  },
  {
   "cell_type": "code",
   "execution_count": 91,
   "metadata": {},
   "outputs": [],
   "source": [
    "df_merged2 = pd.merge(left=spotify,\n",
    "                    right=artist_df2,\n",
    "                    how='inner',\n",
    "                    left_on='track.id',\n",
    "                    right_on='song_id')\n",
    "#df_merged2"
   ]
  },
  {
   "cell_type": "code",
   "execution_count": 90,
   "metadata": {},
   "outputs": [],
   "source": [
    "spotify_songs = df_merged2[['track.name', 'name', 'song_id']]\n",
    "#spotify_songs"
   ]
  },
  {
   "cell_type": "markdown",
   "metadata": {},
   "source": [
    "Attributes"
   ]
  },
  {
   "cell_type": "code",
   "execution_count": 85,
   "metadata": {},
   "outputs": [
    {
     "data": {
      "text/plain": [
       "12236"
      ]
     },
     "execution_count": 85,
     "metadata": {},
     "output_type": "execute_result"
    }
   ],
   "source": [
    "chunks = [(i, i+100) for i in range(0, len(spotify_songs), 100)]\n",
    "audio_features_list = []\n",
    "for chunk in chunks:\n",
    "    id_list100 = spotify_songs['song_id'][chunk[0]:chunk[1]]\n",
    "    audio_features_list = audio_features_list + sp.audio_features(id_list100)\n",
    "    sleep(randint(1,3000)/1000)\n",
    "len(audio_features_list)"
   ]
  },
  {
   "cell_type": "code",
   "execution_count": 86,
   "metadata": {},
   "outputs": [],
   "source": [
    "audio_features_df = json_normalize(audio_features_list)"
   ]
  },
  {
   "cell_type": "code",
   "execution_count": 89,
   "metadata": {},
   "outputs": [],
   "source": [
    "df_w_audio_ft = pd.merge(left=spotify_songs,\n",
    "                        right=audio_features_df,\n",
    "                        how='inner',\n",
    "                        left_on='song_id',\n",
    "                        right_on='id')\n",
    "#df_w_audio_ft"
   ]
  },
  {
   "cell_type": "code",
   "execution_count": 88,
   "metadata": {},
   "outputs": [
    {
     "data": {
      "text/plain": [
       "track.name          0\n",
       "name                0\n",
       "song_id             0\n",
       "danceability        0\n",
       "energy              0\n",
       "key                 0\n",
       "loudness            0\n",
       "mode                0\n",
       "speechiness         0\n",
       "acousticness        0\n",
       "instrumentalness    0\n",
       "liveness            0\n",
       "valence             0\n",
       "tempo               0\n",
       "type                0\n",
       "id                  0\n",
       "uri                 0\n",
       "track_href          0\n",
       "analysis_url        0\n",
       "duration_ms         0\n",
       "time_signature      0\n",
       "dtype: int64"
      ]
     },
     "execution_count": 88,
     "metadata": {},
     "output_type": "execute_result"
    }
   ],
   "source": [
    "df_w_audio_ft.isna().sum()"
   ]
  }
 ],
 "metadata": {
  "kernelspec": {
   "display_name": "Python 3 (ipykernel)",
   "language": "python",
   "name": "python3"
  },
  "language_info": {
   "codemirror_mode": {
    "name": "ipython",
    "version": 3
   },
   "file_extension": ".py",
   "mimetype": "text/x-python",
   "name": "python",
   "nbconvert_exporter": "python",
   "pygments_lexer": "ipython3",
   "version": "3.11.4"
  },
  "orig_nbformat": 4
 },
 "nbformat": 4,
 "nbformat_minor": 2
}
